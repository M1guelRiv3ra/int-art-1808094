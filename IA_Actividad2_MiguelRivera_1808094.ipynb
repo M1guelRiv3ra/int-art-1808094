{
  "nbformat": 4,
  "nbformat_minor": 0,
  "metadata": {
    "colab": {
      "name": "IA_Actividad2_MiguelRivera_1808094",
      "provenance": [],
      "authorship_tag": "ABX9TyOokvzM9C4kbtzLz7iHuePS",
      "include_colab_link": true
    },
    "kernelspec": {
      "name": "python3",
      "display_name": "Python 3"
    },
    "language_info": {
      "name": "python"
    }
  },
  "cells": [
    {
      "cell_type": "markdown",
      "metadata": {
        "id": "view-in-github",
        "colab_type": "text"
      },
      "source": [
        "<a href=\"https://colab.research.google.com/github/M1guelRiv3ra/int-art-1808094/blob/main/IA_Actividad2_MiguelRivera_1808094.ipynb\" target=\"_parent\"><img src=\"https://colab.research.google.com/assets/colab-badge.svg\" alt=\"Open In Colab\"/></a>"
      ]
    },
    {
      "cell_type": "markdown",
      "metadata": {
        "id": "oqoXCepWeDVm"
      },
      "source": [
        "Actividad 2.- Ejercicios Introducción Python\n",
        "\n",
        "Alumno: Miguel Angel Rivera Rodriguez\n",
        "\n",
        "Matricula: 1808094\n",
        "\n",
        "Hora: Jueves, N1 "
      ]
    },
    {
      "cell_type": "code",
      "metadata": {
        "colab": {
          "base_uri": "https://localhost:8080/"
        },
        "id": "7PesE1kJ-iyi",
        "outputId": "845459e3-c92e-4a53-94c2-2d11cf80f037"
      },
      "source": [
        "#Ejercicio 1\n",
        "nombre = input(\"Ingrese su nombre: \")\n",
        "edad = int(input(\"Digite su edad: \"))\n",
        "frase = input(\"escriba su frase favorita: \")\n",
        "autor = input(\"escriba el nombre del autor: \")\n",
        "print(f\"{nombre} tiene una edad de {edad} años y su frase favorita es la de {frase} cuyo autor es {autor}\")\n"
      ],
      "execution_count": 5,
      "outputs": [
        {
          "output_type": "stream",
          "text": [
            "Ingrese su nombre: Miguel Angel Rivera Rodriguez\n",
            "Digite su edad: 21\n",
            "escriba su frase favorita: \"Ser o no ser\"\n",
            "escriba el nombre del autor: Shakespierre\n",
            "Miguel Angel Rivera Rodriguez tiene una edad de 21 años y su frase favorita es la de \"Ser o no ser\" cuyo autor es Shakespierre\n"
          ],
          "name": "stdout"
        }
      ]
    },
    {
      "cell_type": "code",
      "metadata": {
        "colab": {
          "base_uri": "https://localhost:8080/"
        },
        "id": "nJ4Q7kFUJmO9",
        "outputId": "02c6d8a4-27d1-45f6-cdfb-8018565f9577"
      },
      "source": [
        "#Ejercicio 2\n",
        "a = int(input(\"Digite un numero entero: \")) #se escribe int antes del input para que el programa entienda queguardaremos un numero entero\n",
        "b = int(input(\"Digite otro numero entero: \")) \n",
        "c = float(input(\"Digite un numero flotante: \")) #se escribe float antes del input para que el programa entienda que guardaremos un numero flotante\n",
        "d = float(input(\"Digite otro numero flotante: \"))\n",
        "suma1= a+b\n",
        "suma2= c+d\n",
        "resta1= a-b\n",
        "resta2= c-d\n",
        "div1= a/b\n",
        "div2= c/d\n",
        "multi1= a*b\n",
        "multi2= c*d\n",
        "print(f\"Los resultados de numeros enteros son {suma1} , {resta1} , {div1} y {multi1}\")\n",
        "print(f\"Los resultados de numeros flotantes son {suma2} , {resta2} , {div2} , {multi2}\")"
      ],
      "execution_count": 4,
      "outputs": [
        {
          "output_type": "stream",
          "text": [
            "Digite un numero entero: 25\n",
            "Digite otro numero entero: 38\n",
            "Digite un numero flotante: 12.5\n",
            "Digite otro numero flotante: 78.3\n",
            "Los resultados de numeros enteros son 63 , -13 , 0.6578947368421053 y 950\n",
            "Los resultados de numeros flotantes son 90.8 , -65.8 , 0.15964240102171137 , 978.75\n"
          ],
          "name": "stdout"
        }
      ]
    },
    {
      "cell_type": "code",
      "metadata": {
        "colab": {
          "base_uri": "https://localhost:8080/"
        },
        "id": "aXJWKiSDQBSR",
        "outputId": "f2c577fe-e5f6-4390-fdbe-c57bc144a6c3"
      },
      "source": [
        "#Ejercicio 3\n",
        "a=25\n",
        "b=30\n",
        "c=15\n",
        "d=3\n",
        "resultado1=not ((a>b) and (b<c))\n",
        "resultado2=not ((a<d) or (b>c))\n",
        "print(f\"La oración ''a>b' and 'b<c'' da como resultado {resultado1}\")\n",
        "print(f\"La oración ''a<d' or 'b>c'' da como resultado {resultado2}\")"
      ],
      "execution_count": 3,
      "outputs": [
        {
          "output_type": "stream",
          "text": [
            "La oración ''a>b' and 'b<c'' da como resultado True\n",
            "La oración ''a<d' or 'b>c'' da como resultado False\n"
          ],
          "name": "stdout"
        }
      ]
    }
  ]
}