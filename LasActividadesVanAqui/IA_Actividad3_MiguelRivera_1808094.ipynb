{
  "nbformat": 4,
  "nbformat_minor": 0,
  "metadata": {
    "colab": {
      "name": "IA_Actividad3_MiguelRivera_1808094.ipynb",
      "provenance": []
    },
    "kernelspec": {
      "name": "python3",
      "display_name": "Python 3"
    },
    "language_info": {
      "name": "python"
    }
  },
  "cells": [
    {
      "cell_type": "markdown",
      "metadata": {
        "id": "QSPdICCpc7zc"
      },
      "source": [
        "Actividad #3: Ejercicios Introduccion a Python parte 2\n",
        "  \n",
        "Estudiante: Miguel Angel Rivera Rodriguez\n",
        "\n",
        "Matricula: 1808094\n",
        "\n",
        "Hora: jueves, N4"
      ]
    },
    {
      "cell_type": "code",
      "metadata": {
        "id": "g81et8a1mNPZ",
        "colab": {
          "base_uri": "https://localhost:8080/"
        },
        "outputId": "4df0fead-5232-467a-e571-3694b5fc8b27"
      },
      "source": [
        "#Ejercicio 1\n",
        "A = input(\"comida 1: \")\n",
        "B = input(\"comida 2: \")\n",
        "C = input(\"comida 3: \")\n",
        "D = input(\"comida 4: \")\n",
        "E = input(\"comida 5: \")\n",
        "F = input(\"comida 6: \")\n",
        "G = input(\"comida 7: \")\n",
        "comidas = [A,B,C,D,E,F,G]\n",
        "\n",
        "for x in comidas:\n",
        "  print(x)"
      ],
      "execution_count": 2,
      "outputs": [
        {
          "output_type": "stream",
          "name": "stdout",
          "text": [
            "comida 1: lasagna\n",
            "comida 2: pizza\n",
            "comida 3: entomatadas\n",
            "comida 4: hot dogs\n",
            "comida 5: gorditas\n",
            "comida 6: tacos\n",
            "comida 7: tamales\n",
            "lasagna\n",
            "pizza\n",
            "entomatadas\n",
            "hot dogs\n",
            "gorditas\n",
            "tacos\n",
            "tamales\n"
          ]
        }
      ]
    },
    {
      "cell_type": "code",
      "metadata": {
        "id": "c-JCUHILpnQE",
        "colab": {
          "base_uri": "https://localhost:8080/"
        },
        "outputId": "87558b20-b78d-4cac-b082-674d1982d928"
      },
      "source": [
        "#Ejercicio 1.2\n",
        "A = input(\"comida 1: \")\n",
        "B = input(\"comida 2: \")\n",
        "C = input(\"comida 3: \")\n",
        "D = input(\"comida 4: \")\n",
        "E = input(\"comida 5: \")\n",
        "F = input(\"comida 6: \")\n",
        "G = input(\"comida 7: \")\n",
        "comidas = [A,B,C,D,E,F,G]\n",
        "\n",
        "for x in comidas:\n",
        "  print(f\"\\nUna de mis comidas favoritas es {x}\")"
      ],
      "execution_count": 3,
      "outputs": [
        {
          "output_type": "stream",
          "name": "stdout",
          "text": [
            "comida 1: lasagna\n",
            "comida 2: pizza\n",
            "comida 3: entomatadas\n",
            "comida 4: hot dogs\n",
            "comida 5: gorditas\n",
            "comida 6: tacos\n",
            "comida 7: tamales\n",
            "\n",
            "Una de mis comidas favoritas es lasagna\n",
            "\n",
            "Una de mis comidas favoritas es pizza\n",
            "\n",
            "Una de mis comidas favoritas es entomatadas\n",
            "\n",
            "Una de mis comidas favoritas es hot dogs\n",
            "\n",
            "Una de mis comidas favoritas es gorditas\n",
            "\n",
            "Una de mis comidas favoritas es tacos\n",
            "\n",
            "Una de mis comidas favoritas es tamales\n"
          ]
        }
      ]
    },
    {
      "cell_type": "code",
      "metadata": {
        "id": "y-uDHoa-d9xF",
        "colab": {
          "base_uri": "https://localhost:8080/"
        },
        "outputId": "d0855fb9-9b10-44c1-ac8e-cd4fdd8c8b22"
      },
      "source": [
        "#Ejercicio 2\n",
        "#para este juego, se le asignaran valores de 1 a 3 a los posibles resultados\n",
        "# piedra=1   papel=2  tijera=3\n",
        "A = int(input(\"Ingrese su elección: \"))\n",
        "B = int(input(\"Ingrese su elección: \"))\n",
        "\n",
        "if A==1 and B==1:\n",
        "  print(\"es un empate\")\n",
        "elif A==1 and B==2:\n",
        "  print(\"gana el jugador B\")\n",
        "elif A==1 and B==3:\n",
        "  print(\"gana el jugador A\")\n",
        "elif A==2 and B==1:\n",
        "  print(\"gana el jugador B\")\n",
        "elif A==2 and B==2:\n",
        "  print(\"es un empate\")\n",
        "elif A==2 and B==3:\n",
        "  print(\"gana el jugador B\")\n",
        "elif A==3 and B==1:\n",
        "  print(\"gana el jugador B\")\n",
        "elif A==3 and B==2:\n",
        "  print(\"gana el jugador A\")\n",
        "elif A==3 and B==3:\n",
        "  print(\"es un empate\")"
      ],
      "execution_count": 4,
      "outputs": [
        {
          "output_type": "stream",
          "name": "stdout",
          "text": [
            "Ingrese su elección: 1\n",
            "Ingrese su elección: 3\n",
            "gana el jugador A\n"
          ]
        }
      ]
    },
    {
      "cell_type": "code",
      "metadata": {
        "colab": {
          "base_uri": "https://localhost:8080/"
        },
        "id": "f83aXJDpq0T1",
        "outputId": "cb928b7d-8e39-4331-9f2f-a5135da2900e"
      },
      "source": [
        "#Ejercicio 3\n",
        "lista = [1,2,3,4,5,6]\n",
        "print(lista)\n",
        "print(lista[:5])\n",
        "print(lista[:4])\n",
        "print(lista[:3])\n",
        "print(lista[:2]) \n",
        "print(lista[0])\n",
        "print(lista[:2])\n",
        "print(lista[:3])\n",
        "print(lista[:4])\n",
        "print(lista[:5])\n",
        "print(lista)"
      ],
      "execution_count": 5,
      "outputs": [
        {
          "output_type": "stream",
          "name": "stdout",
          "text": [
            "[1, 2, 3, 4, 5, 6]\n",
            "[1, 2, 3, 4, 5]\n",
            "[1, 2, 3, 4]\n",
            "[1, 2, 3]\n",
            "[1, 2]\n",
            "1\n",
            "[1, 2]\n",
            "[1, 2, 3]\n",
            "[1, 2, 3, 4]\n",
            "[1, 2, 3, 4, 5]\n",
            "[1, 2, 3, 4, 5, 6]\n"
          ]
        }
      ]
    }
  ]
}