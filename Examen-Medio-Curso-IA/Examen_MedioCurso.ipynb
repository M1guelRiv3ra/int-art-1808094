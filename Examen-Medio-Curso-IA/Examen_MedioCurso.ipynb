{
  "nbformat": 4,
  "nbformat_minor": 0,
  "metadata": {
    "colab": {
      "name": "Examen-MedioCurso.ipynb",
      "provenance": []
    },
    "kernelspec": {
      "name": "python3",
      "display_name": "Python 3"
    },
    "language_info": {
      "name": "python"
    }
  },
  "cells": [
    {
      "cell_type": "markdown",
      "metadata": {
        "id": "oze4IksyJD0l"
      },
      "source": [
        "Examen de Medio curso\n",
        "\n",
        "Alumno: Miguel Angel Rivera Rodriguez\n",
        "\n",
        "Matricula: 1808094\n",
        "\n",
        "Hora: Jueves, N4\n",
        "\n",
        "Carrera: IB"
      ]
    },
    {
      "cell_type": "code",
      "metadata": {
        "colab": {
          "base_uri": "https://localhost:8080/"
        },
        "id": "a4pKHws9Jfwe",
        "outputId": "619a59d3-e863-4680-a256-797a353d19ca"
      },
      "source": [
        "#Ejercicio 1\n",
        "lista = [10,15,17,21,22,34,37,40,45,52,66,68,81,84,91,94,102,105,109]\n",
        "\n",
        "def extraer_impares(lista):\n",
        "  impares = []\n",
        "\n",
        "  for n in lista:\n",
        "    if n % 2 != 0:\n",
        "      impares.append(n)\n",
        "\n",
        "  return impares\n",
        "print()\n",
        "resultado = extraer_impares(lista)\n",
        "\n",
        "print(f\"La lista original es la siguiente: {lista}\")\n",
        "print(f\"la nueva lista quedo de la siguiente manera: {resultado}\")"
      ],
      "execution_count": 10,
      "outputs": [
        {
          "output_type": "stream",
          "name": "stdout",
          "text": [
            "\n",
            "La lista original es la siguiente: [10, 15, 17, 21, 22, 34, 37, 40, 45, 52, 66, 68, 81, 84, 91, 94, 102, 105, 109]\n",
            "la nueva lista quedo de la siguiente manera: [15, 17, 21, 37, 45, 81, 91, 105, 109]\n"
          ]
        }
      ]
    },
    {
      "cell_type": "code",
      "metadata": {
        "colab": {
          "base_uri": "https://localhost:8080/"
        },
        "id": "tjV6KO5eJ3b0",
        "outputId": "2ae94280-8ede-4de9-d848-657b11fe8f65"
      },
      "source": [
        "#Ejercicio 2\n",
        "TOP1 = input(\"Su pelicula favorita #1: \")\n",
        "TOP2 = input(\"Su pelicula favorita #2: \")\n",
        "TOP3 = input(\"Su pelicula favorita #3: \")\n",
        "TOP4 = input(\"Su pelicula favorita #4: \")\n",
        "TOP5 = input(\"Su pelicula favorita #5: \")\n",
        "peliculas = [TOP1,TOP2,TOP3,TOP4,TOP5]\n",
        "n = 1\n",
        "print()\n",
        "\n",
        "for x in peliculas:\n",
        "  print(\"La pelicula\")\n",
        "  print(x)\n",
        "  print(f\"esta en el puesto {n} de mi top 5\")\n",
        "  print()\n",
        "  n = n+1"
      ],
      "execution_count": 23,
      "outputs": [
        {
          "output_type": "stream",
          "name": "stdout",
          "text": [
            "Su pelicula favorita #1: Pollitos en fuga\n",
            "Su pelicula favorita #2: El gigante de hierro\n",
            "Su pelicula favorita #3: Wallace y Gromit\n",
            "Su pelicula favorita #4: Dinosaurios\n",
            "Su pelicula favorita #5: Iron man\n",
            "\n",
            "La pelicula\n",
            "Pollitos en fuga\n",
            "esta en el puesto 1 de mi top 5\n",
            "\n",
            "La pelicula\n",
            "El gigante de hierro\n",
            "esta en el puesto 2 de mi top 5\n",
            "\n",
            "La pelicula\n",
            "Wallace y Gromit\n",
            "esta en el puesto 3 de mi top 5\n",
            "\n",
            "La pelicula\n",
            "Dinosaurios\n",
            "esta en el puesto 4 de mi top 5\n",
            "\n",
            "La pelicula\n",
            "Iron man\n",
            "esta en el puesto 5 de mi top 5\n",
            "\n"
          ]
        }
      ]
    }
  ]
}